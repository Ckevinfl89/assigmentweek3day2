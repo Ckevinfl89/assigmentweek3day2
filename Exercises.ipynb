{
 "cells": [
  {
   "cell_type": "markdown",
   "metadata": {},
   "source": [
    "#### Exercise 1 - Class Inheritance"
   ]
  },
  {
   "cell_type": "markdown",
   "metadata": {},
   "source": [
    "Create an Employee class that sets an employee's first name, last name, job title, salary, and email. The Employee class should have a class attribute for the raise amount set to 5% (1.05). Create a method that will apply the raise to an employee's salary."
   ]
  },
  {
   "cell_type": "code",
   "execution_count": 1,
   "metadata": {},
   "outputs": [
    {
     "name": "stdout",
     "output_type": "stream",
     "text": [
      "leo.messi@company.org\n",
      "Leo Messi, you have recieved a raise. Your new salary is 55000.\n"
     ]
    }
   ],
   "source": [
    "class Employee():\n",
    "    raise_amount = 1.10\n",
    "    \n",
    "    def __init__(self, first, last, salary, job_title):\n",
    "        self.first = first.title()\n",
    "        self.last = last.title()\n",
    "        self.salary = salary\n",
    "        self.job_title = job_title\n",
    "        self.email = first.lower() + \".\" + last.lower() + \"@company.org\"\n",
    "        \n",
    "    def full_name(self):\n",
    "        return f'{self.first} {self.last}'\n",
    "    \n",
    "    def apply_raise(self):\n",
    "        self.salary = int(self.salary * self.raise_amount)\n",
    "        return f\"{self.first} {self.last}, you have recieved a raise. Your new salary is {self.salary}.\"\n",
    "        \n",
    "#     def change_last_name(self, last):\n",
    "#         self.last = last\n",
    "#         self.email = self.first + \".\" + last + \"@company.org\"\n",
    "        \n",
    "#     def add_health_benefits(self, provider):\n",
    "#         self.insurance = provider\n",
    "    \n",
    "    \n",
    "emp_1 = Employee('Leo', 'Messi', 50000, 'sales')\n",
    "emp_2 = Employee('Sergio', 'Aguero', 100000, \"Sofware engineer\")\n",
    "\n",
    "print(emp_1.email)\n",
    "print(emp_1.apply_raise())"
   ]
  },
  {
   "cell_type": "markdown",
   "metadata": {},
   "source": [
    "Create two more classes that inherit from the Employee class. One for Sales and one for Development. Both of these classes will have the same attributes as the Employee.<br>\n",
    "- For the Sales employees, add a phone number attribute on instantiation using the super method. \n",
    "- Create a method on the Sales class that will Send a Follow Up Email. It should take in a customer name and \"send\" aka print a formatted email \"Dear *customer*, Thank you for your interest in our product. Please let me know if you have any questions. My email is *email* or my phone number is *phone number*. Thanks, *full name*\"\n",
    "- Create a method on the Development class called code that will print out \"*full name* is writing code\"."
   ]
  },
  {
   "cell_type": "code",
   "execution_count": 7,
   "metadata": {},
   "outputs": [
    {
     "name": "stdout",
     "output_type": "stream",
     "text": [
      "Dear MikeO'Neil, thank you for you interest in our product. Please let me know if you have any questions. My email is maria.fernandez@company.org or my phone number is 123-456-5455. Thanks\n"
     ]
    }
   ],
   "source": [
    "class Sales(Employee):\n",
    "    def __init__(self, first, last, salary, job_title, phone):\n",
    "        super().__init__(first, last, salary, job_title)\n",
    "        self.phone = phone\n",
    "        \n",
    "    def follow_up(self, customer):\n",
    "        return f\"Dear {customer}, thank you for you interest in our product. Please let me know if you have any questions. My email is {self.email} or my phone number is {self.phone}. Thanks\"\n",
    "        \n",
    "class Dev(Employee):\n",
    "    def __init__(self, first, last, salary, job_title):\n",
    "        super().__init__(first, last, salary, job_title)\n",
    "        \n",
    "    def code(self):\n",
    "        return f\"{self.job_title} {self.first} {self.last} is coding now\"\n",
    "    \n",
    "maria=Sales('Maria', 'Fernandez', 50000, 'sales', '123-456-5455')\n",
    "print(maria.follow_up(\"MikeO'Neil\"))\n",
    "\n",
    "Christian = Dev('Christian', 'Sanabria', 100000, 'Sofware Engineer')\n",
    "\n"
   ]
  },
  {
   "cell_type": "markdown",
   "metadata": {},
   "source": [
    "- Create an instance of a Sales Employee with a salary of $50,000.\n",
    "- Send follow up emails to \"Mike O'Neil\" and \"Hannah Stern\"\n",
    "- Give the employee a raise and print the salary"
   ]
  },
  {
   "cell_type": "code",
   "execution_count": 8,
   "metadata": {},
   "outputs": [
    {
     "name": "stdout",
     "output_type": "stream",
     "text": [
      "Maria Fernandez, you have recieved a raise. Your new salary is 55000.\n",
      "Dear Mike O'Neal, thank you for you interest in our product. Please let me know if you have any questions. My email is maria.fernandez@company.org or my phone number is 123-456-5455. Thanks\n",
      "==================================================\n",
      "Dear Hannah Stern, thank you for you interest in our product. Please let me know if you have any questions. My email is maria.fernandez@company.org or my phone number is 123-456-5455. Thanks\n"
     ]
    }
   ],
   "source": [
    "maria=Sales('Maria', 'Fernandez', 50000, 'sales', '123-456-5455')\n",
    "\n",
    "print(maria.apply_raise())\n",
    "print(maria.follow_up(\"Mike O'Neal\"))\n",
    "print('='*50)\n",
    "print(maria.follow_up('Hannah Stern'))\n"
   ]
  },
  {
   "cell_type": "markdown",
   "metadata": {},
   "source": [
    "- Create an instance of a Development Employee with a salary of $100,000\n",
    "- Write some code with this employee\n",
    "- Give the employee a raise and print the salary"
   ]
  },
  {
   "cell_type": "code",
   "execution_count": 9,
   "metadata": {},
   "outputs": [
    {
     "name": "stdout",
     "output_type": "stream",
     "text": [
      "Streamer John Jones is coding now\n",
      "John Jones, you have recieved a raise. Your new salary is 110000.\n"
     ]
    }
   ],
   "source": [
    "john = Dev('john', 'jones', 100000, 'Streamer')\n",
    "print(john.code())\n",
    "print(john.apply_raise())"
   ]
  },
  {
   "cell_type": "markdown",
   "metadata": {},
   "source": [
    "#### Exercise 2 - Importing Modules"
   ]
  },
  {
   "cell_type": "markdown",
   "metadata": {},
   "source": [
    "In VS Code, create a module titled `geometry` and add two functions in there. One that will calculate the area of a circle given a radius. The second will find the hypotenuse of a right angle given the two sides. Import the module or the functions from the module and use it to find the answers to the below questions"
   ]
  },
  {
   "cell_type": "markdown",
   "metadata": {},
   "source": [
    "What is the area of a circle with a radius of 7cm?"
   ]
  },
  {
   "cell_type": "code",
   "execution_count": 2,
   "metadata": {},
   "outputs": [
    {
     "data": {
      "text/plain": [
       "153.93804002589985"
      ]
     },
     "execution_count": 2,
     "metadata": {},
     "output_type": "execute_result"
    }
   ],
   "source": [
    "import geometry\n",
    "\n",
    "geometry.area_of_circle(7)"
   ]
  },
  {
   "cell_type": "code",
   "execution_count": null,
   "metadata": {},
   "outputs": [],
   "source": []
  },
  {
   "cell_type": "markdown",
   "metadata": {},
   "source": [
    "What is the hypotenuse of a right angle with sides of 3in and 4in?"
   ]
  },
  {
   "cell_type": "code",
   "execution_count": 1,
   "metadata": {},
   "outputs": [
    {
     "data": {
      "text/plain": [
       "5.0"
      ]
     },
     "execution_count": 1,
     "metadata": {},
     "output_type": "execute_result"
    }
   ],
   "source": [
    "import geometry \n",
    "\n",
    "geometry.hypo(3,4)"
   ]
  },
  {
   "cell_type": "code",
   "execution_count": null,
   "metadata": {},
   "outputs": [],
   "source": []
  }
 ],
 "metadata": {
  "kernelspec": {
   "display_name": "Python 3 (ipykernel)",
   "language": "python",
   "name": "python3"
  },
  "language_info": {
   "codemirror_mode": {
    "name": "ipython",
    "version": 3
   },
   "file_extension": ".py",
   "mimetype": "text/x-python",
   "name": "python",
   "nbconvert_exporter": "python",
   "pygments_lexer": "ipython3",
   "version": "3.10.9"
  }
 },
 "nbformat": 4,
 "nbformat_minor": 4
}
